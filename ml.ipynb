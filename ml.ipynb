{
 "cells": [
  {
   "cell_type": "code",
   "execution_count": null,
   "outputs": [],
   "source": [
    "# 定义氨基酸\n",
    "Amino_acids = ['ALA', 'CYS', 'ASP', 'GLU', 'PHE', 'GLY', 'HIS', 'ILE', 'LYS', 'LEU', 'MET', 'ASN', 'PRO', 'GLN', 'ARG', 'SER', 'THR', 'VAL', 'TRP', 'TYR']\n",
    "# 定义缩写氨基酸\n",
    "amino_acids = ['A', 'C', 'D', 'E', 'F', 'G', 'H', 'I', 'K', 'L', 'M', 'N', 'P', 'Q', 'R', 'S', 'T', 'V', 'W', 'Y']\n",
    "Amino_acids_num = [1, 2, 3, 4, 5, 6, 7, 8, 9, 10, 11, 12, 13, 14, 15, 16, 17, 18, 19,20]\n",
    "Amino_acids_dict = {}\n",
    "for i in range(len(Amino_acids)):\n",
    "    Amino_acids_dict[amino_acids[i]] = Amino_acids_num[i]\n",
    "\n",
    "def protein_to_int(protein):\n",
    "    protein_int = []\n",
    "    for i in range(len(protein)):\n",
    "        temp = protein[i]\n",
    "\n",
    "        index = [i for i, x in enumerate(amino_acids) if x == temp]\n",
    "        if len(index) != 0:\n",
    "            protein_int.append(index[0])\n",
    "    return protein_int\n",
    "\n"
   ],
   "metadata": {
    "collapsed": false,
    "pycharm": {
     "name": "#%%\n"
    }
   }
  },
  {
   "cell_type": "code",
   "execution_count": 2,
   "outputs": [
    {
     "name": "stdout",
     "output_type": "stream",
     "text": [
      "4851\n",
      "torch.Size([149, 4851])\n"
     ]
    }
   ],
   "source": [
    "import pandas as pd\n",
    "import numpy as np\n",
    "from sklearn.model_selection import train_test_split\n",
    "from torch.nn.utils.rnn import pad_sequence\n",
    "import torch\n",
    "\n",
    "dir = 'data/data.csv'\n",
    "df = pd.read_csv(dir)\n",
    "seq = df['Sequence']\n",
    "label = df['Label']\n",
    "print(len(label))\n",
    "input_seq = []\n",
    "for i in seq:\n",
    "\n",
    "    temp = protein_to_int(i)\n",
    "\n",
    "    input_seq.append(torch.tensor(temp))\n",
    "input_seq = pad_sequence(input_seq,padding_value=-1)\n",
    "print(input_seq.shape)\n",
    "\n",
    "input_seq= torch.transpose(input_seq,1,0)\n",
    "input_label = torch.tensor(label)\n",
    "\n"
   ],
   "metadata": {
    "collapsed": false,
    "pycharm": {
     "name": "#%%\n"
    }
   }
  },
  {
   "cell_type": "code",
   "execution_count": 13,
   "outputs": [
    {
     "name": "stdout",
     "output_type": "stream",
     "text": [
      "torch.Size([4851, 149])\n",
      "torch.Size([4851])\n"
     ]
    }
   ],
   "source": [
    "print(input_seq.shape)\n",
    "print(input_label.shape)"
   ],
   "metadata": {
    "collapsed": false,
    "pycharm": {
     "name": "#%%\n"
    }
   }
  },
  {
   "cell_type": "code",
   "execution_count": 23,
   "outputs": [],
   "source": [
    "from sklearn.svm import SVC\n",
    "from sklearn.model_selection import train_test_split   # 数据集划分\n",
    "from sklearn.model_selection import StratifiedShuffleSplit\n",
    "from sklearn.model_selection import GridSearchCV  # 带交叉验证的网格搜索\n",
    "from sklearn.preprocessing import StandardScaler\n",
    "from sklearn.metrics import confusion_matrix\n",
    "import matplotlib.pyplot as plt\n",
    "\n",
    "\n",
    "import pandas as pd\n",
    "from time import time\n",
    "import datetime\n",
    "import pickle\n",
    "\n",
    "from sklearn.metrics import accuracy_score, mean_absolute_error, f1_score, recall_score\n"
   ],
   "metadata": {
    "collapsed": false,
    "pycharm": {
     "name": "#%%\n"
    }
   }
  },
  {
   "cell_type": "code",
   "execution_count": 3,
   "outputs": [],
   "source": [
    "from evaluate_metrics import *"
   ],
   "metadata": {
    "collapsed": false,
    "pycharm": {
     "name": "#%%\n"
    }
   }
  },
  {
   "cell_type": "code",
   "execution_count": null,
   "outputs": [],
   "source": [
    "from sklearn import svm\n",
    "from sklearn.model_selection import KFold,StratifiedKFold\n",
    "sfolder = StratifiedKFold(n_splits=5,random_state=2,shuffle=True)\n",
    "result = np.random.randn(5,5)\n",
    "for i,(train_id,test_id) in enumerate(sfolder.split(input_seq,input_label)):\n",
    "\n",
    "    Xtrain,Ytrain = input_seq[train_id],input_label[train_id]\n",
    "    Xtest,Ytest = input_seq[test_id],input_label[test_id]\n",
    "\n",
    "    clf =svm.SVC(gamma=0.05,max_iter=200,decision_function_shape='ovo')\n",
    "\n",
    "    clf.fit(Xtrain,Ytrain)\n",
    "    print('训练集',clf.score(Xtrain,Ytrain))\n",
    "    print('测试集',clf.score(Xtest,Ytest))\n",
    "    tra_label = clf.predict(Xtrain)\n",
    "    tes_label = clf.predict(Xtest)\n",
    "    from sklearn.metrics import precision_score\n",
    "    val_result = [accuracy_score(Ytest, tes_label),precision_score(Ytest,tes_label,average='weighted'),\n",
    "                  recall_score(Ytest, tes_label), f1_score(Ytest, tes_label),\n",
    "              mcc_score(Ytest, tes_label)]\n",
    "    for j in range(5):\n",
    "        result[j][i] = val_result[j]\n",
    "\n",
    "for i in range(5):\n",
    "    print(np.mean(result[i]))"
   ],
   "metadata": {
    "collapsed": false,
    "pycharm": {
     "name": "#%%\n"
    }
   }
  },
  {
   "cell_type": "code",
   "execution_count": 36,
   "outputs": [
    {
     "name": "stdout",
     "output_type": "stream",
     "text": [
      "0.956701030927835\n",
      "0.9567660464597477\n",
      "0.956701030927835\n",
      "0.9567291438816673\n",
      "0.905540035549784\n"
     ]
    }
   ],
   "source": [
    "from sklearn.ensemble import RandomForestClassifier\n",
    "sfolder = StratifiedKFold(n_splits=5,random_state=2,shuffle=True)\n",
    "result = np.random.randn(5,5)\n",
    "for i,(train_id,test_id) in enumerate(sfolder.split(input_seq,input_label)):\n",
    "\n",
    "    glassRFModel = RandomForestClassifier(n_estimators=100,max_depth=None,random_state=2)\n",
    "    glassRFModel.fit(Xtrain,Ytrain)\n",
    "    tes_label = glassRFModel.predict(Xtest)\n",
    "\n",
    "\n",
    "    val_result = [accuracy_score(Ytest, tes_label),precision_score(Ytest,tes_label,average='weighted'),\n",
    "                  recall_score(Ytest, tes_label), f1_score(Ytest, tes_label),\n",
    "              mcc_score(Ytest, tes_label)]\n",
    "    for j in range(5):\n",
    "        result[j][i] = val_result[j]\n",
    "\n",
    "for i in range(5):\n",
    "    print(np.mean(result[i]))\n"
   ],
   "metadata": {
    "collapsed": false,
    "pycharm": {
     "name": "#%%\n"
    }
   }
  },
  {
   "cell_type": "code",
   "execution_count": 44,
   "outputs": [
    {
     "name": "stdout",
     "output_type": "stream",
     "text": [
      "[0.9556701030927836, 0.9555772560188303, 0.9556701030927836, 0.9555960074549301, 0.9499405602199271]\n",
      "[0.9556701030927836, 0.9555772560188303, 0.9556701030927836, 0.9555960074549301, 0.9499405602199271]\n",
      "[0.9556701030927836, 0.9555772560188303, 0.9556701030927836, 0.9555960074549301, 0.9499405602199271]\n",
      "[0.9556701030927836, 0.9555772560188303, 0.9556701030927836, 0.9555960074549301, 0.9499405602199271]\n",
      "[0.9556701030927836, 0.9555772560188303, 0.9556701030927836, 0.9555960074549301, 0.9499405602199271]\n",
      "0.9556701030927834\n",
      "0.9555772560188303\n",
      "0.9556701030927834\n",
      "0.9555960074549301\n",
      "0.9499405602199271\n"
     ]
    }
   ],
   "source": [
    "import xgboost as xgb\n",
    "\n",
    "sfolder = StratifiedKFold(n_splits=5,random_state=2,shuffle=True)\n",
    "result = np.random.randn(5,5)\n",
    "for i,(train_id,test_id) in enumerate(sfolder.split(input_seq,input_label)):\n",
    "    xgb_clf = xgb.XGBClassifier(\n",
    "    learning_rate = 0.1,\n",
    "    max_depth = 100,\n",
    "    n_estimators =100,\n",
    "    objective = 'multi:softmax',\n",
    "    num_class = 4,\n",
    "    random_state = 42\n",
    ")\n",
    "    xgb_clf.fit(Xtrain,Ytrain)\n",
    "    tes_label = xgb_clf.predict(Xtest)\n",
    "    val_result = [accuracy_score(Ytest, tes_label),precision_score(Ytest,tes_label,average='weighted'),\n",
    "                  recall_score(Ytest, tes_label), f1_score(Ytest, tes_label),\n",
    "              auc_score(Ytest, tes_label)]\n",
    "    for j in range(5):\n",
    "        result[j][i] = val_result[j]\n",
    "    print(val_result)\n",
    "for i in range(5):\n",
    "    print(np.mean(result[i]))"
   ],
   "metadata": {
    "collapsed": false,
    "pycharm": {
     "name": "#%%\n"
    }
   }
  },
  {
   "cell_type": "code",
   "execution_count": 45,
   "outputs": [
    {
     "name": "stdout",
     "output_type": "stream",
     "text": [
      "[0.9175257731958762, 0.9175257731958762, 0.9175257731958762, 0.9175257731958762, 0.9099115833271417]\n",
      "[0.9144329896907216, 0.9140803491270008, 0.9144329896907216, 0.914171257587136, 0.9035868192287688]\n",
      "[0.9175257731958762, 0.9175257731958762, 0.9175257731958762, 0.9175257731958762, 0.9099115833271417]\n",
      "[0.9195876288659793, 0.919407240559454, 0.9195876288659793, 0.9194805501507396, 0.910854261089234]\n",
      "[0.9195876288659793, 0.9195876288659793, 0.9195876288659793, 0.9195876288659793, 0.9121637937439632]\n",
      "0.9177319587628865\n",
      "0.9176253529888374\n",
      "0.9177319587628865\n",
      "0.9176581965991215\n",
      "0.9092856081432499\n"
     ]
    }
   ],
   "source": [
    "from sklearn.tree import DecisionTreeClassifier\n",
    "sfolder = StratifiedKFold(n_splits=5,random_state=2,shuffle=True)\n",
    "result = np.random.randn(5,5)\n",
    "for i,(train_id,test_id) in enumerate(sfolder.split(input_seq,input_label)):\n",
    "    tree_clf = DecisionTreeClassifier()\n",
    "    tree_clf.fit(Xtrain,Ytrain)\n",
    "    tes_label = tree_clf.predict(Xtest)\n",
    "    val_result = [accuracy_score(Ytest, tes_label),precision_score(Ytest,tes_label,average='weighted'),\n",
    "                  recall_score(Ytest, tes_label), f1_score(Ytest, tes_label),\n",
    "              auc_score(Ytest, tes_label)]\n",
    "    print(val_result)\n",
    "    for j in range(5):\n",
    "        result[j][i] = val_result[j]\n",
    "for i in range(5):\n",
    "    print(np.mean(result[i]))"
   ],
   "metadata": {
    "collapsed": false,
    "pycharm": {
     "name": "#%%\n"
    }
   }
  }
 ],
 "metadata": {
  "kernelspec": {
   "display_name": "Python 3",
   "language": "python",
   "name": "python3"
  },
  "language_info": {
   "codemirror_mode": {
    "name": "ipython",
    "version": 2
   },
   "file_extension": ".py",
   "mimetype": "text/x-python",
   "name": "python",
   "nbconvert_exporter": "python",
   "pygments_lexer": "ipython2",
   "version": "2.7.6"
  }
 },
 "nbformat": 4,
 "nbformat_minor": 0
}